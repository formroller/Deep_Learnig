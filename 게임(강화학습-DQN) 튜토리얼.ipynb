{
 "cells": [
  {
   "cell_type": "markdown",
   "id": "f185a831",
   "metadata": {},
   "source": [
    "이 튜토리얼 에서는 [OpenAI Gym](https://gym.openai.com)의 CartPole-v0 태스크에서 DQN(Deep Q Learning) 에이전트를 학습하는데 PyTorch를 사용하는 방법을 보여준다.\n",
    "\n",
    "**태스크**\n",
    "에이전트는 연결된막대가 똑바로 서 있도록 카트를 왼쪽이나 오른쪽으로 움직이는 두 가지 동작 중 하나를 선택해야 한다. 다양한 알고리즘과 시각화 기능을 갖춘 공식 순위표를 [Gym 웹사이트](https://gym.openai.com/envs/CartPole-v0/)에서 찾을 수 있다. \n",
    "\n",
    "\n",
    "(대충 막대기 안쓰러지는 gif)"
   ]
  },
  {
   "cell_type": "markdown",
   "id": "e02d0d95",
   "metadata": {},
   "source": [
    "**cartpole** \n",
    "에이전트가 현재 환경을 관찰하고 행동을 선택하면, 새로운 상태로 환경이 전환되고 작업의 결과르 나타내는 보상을 반환한다.   \n",
    "이 태스크에서 매 타임스텝(반복) 증가마다 보상이 +1이 되고, 만약 막대가 너무 멀리 떨어지거나 카트가 중심에서 2.4 유닛 멀어지면 환경이 중단된다.  \n",
    "이는 더 좋은 시나리오가 더 오랫동안 많은 보상을 축적하는 것을 의미한다. \n",
    "\n",
    "카트폴 태스크는 에이전트에 대한 입력이 환경 상태(위치, 속도 등)를 나타내는 4개의 실제 값이 되도록 . 그러나 신경망은 순수하게 그 장면을 보고 태스크(문제)를 해결할 수 있다. 따라서 카트 중심 화며 패치를 <u>입력으로</u> 사용한다. 이로인해 우리가 만든 결과는 공식 순위표와 직접 비교 불가하다. 이번 태스크에서는 모든 프레임을 렌더링해야되므로 훨씬 더 어려우며 이는 학습 속도를 저하시키는 요인이 된다. \n",
    "\n",
    "**패키지**\n",
    "먼저 필요한 패키지를 가져온다. 환경을 위해 [gym](https://gym.openai.com)이 필요하며 PyTorch에서 사용할 패키지는 아래와 같다.  \n",
    "* 신경망(```torch.nn```)\n",
    "* 최적화(```torch.optim```)\n",
    "* 자동 미분(```torch.atuograd```)\n",
    "* 시각 태스크를 위한 유틸들(```torchvision``` - [a separate package](https://github.com/pytorch/vision))"
   ]
  },
  {
   "cell_type": "code",
   "execution_count": 2,
   "id": "12952d2b",
   "metadata": {},
   "outputs": [
    {
     "name": "stdout",
     "output_type": "stream",
     "text": [
      "Collecting gym\n",
      "  Downloading gym-0.21.0.tar.gz (1.5 MB)\n",
      "\u001b[K     |████████████████████████████████| 1.5 MB 8.0 MB/s eta 0:00:01\n",
      "\u001b[?25hRequirement already satisfied: numpy>=1.18.0 in /opt/homebrew/anaconda3/lib/python3.9/site-packages (from gym) (1.19.5)\n",
      "Requirement already satisfied: cloudpickle>=1.2.0 in /opt/homebrew/anaconda3/lib/python3.9/site-packages (from gym) (2.0.0)\n",
      "Building wheels for collected packages: gym\n",
      "  Building wheel for gym (setup.py) ... \u001b[?25ldone\n",
      "\u001b[?25h  Created wheel for gym: filename=gym-0.21.0-py3-none-any.whl size=1616825 sha256=fdde485d325f09e5d41a1e5b65da162cfb852037d0d8ff9b5a10d17927bc9c7a\n",
      "  Stored in directory: /Users/yj/Library/Caches/pip/wheels/b3/50/6c/0a82c1358b4da2dbd9c1bb17e0f89467db32812ab236dbf6d5\n",
      "Successfully built gym\n",
      "Installing collected packages: gym\n",
      "Successfully installed gym-0.21.0\n"
     ]
    }
   ],
   "source": [
    "# !pip3 install gym"
   ]
  },
  {
   "cell_type": "code",
   "execution_count": null,
   "id": "37471867",
   "metadata": {},
   "outputs": [],
   "source": [
    "import gym\n",
    "import math\n",
    "import random\n",
    "import numpy as np\n",
    "import matplotlib \n",
    "import matplotlib.pyplot as plt\n",
    "from collections imp"
   ]
  }
 ],
 "metadata": {
  "kernelspec": {
   "display_name": "Python 3 (ipykernel)",
   "language": "python",
   "name": "python3"
  },
  "language_info": {
   "codemirror_mode": {
    "name": "ipython",
    "version": 3
   },
   "file_extension": ".py",
   "mimetype": "text/x-python",
   "name": "python",
   "nbconvert_exporter": "python",
   "pygments_lexer": "ipython3",
   "version": "3.9.7"
  },
  "toc": {
   "base_numbering": 1,
   "nav_menu": {},
   "number_sections": true,
   "sideBar": true,
   "skip_h1_title": false,
   "title_cell": "Table of Contents",
   "title_sidebar": "Contents",
   "toc_cell": false,
   "toc_position": {},
   "toc_section_display": true,
   "toc_window_display": false
  }
 },
 "nbformat": 4,
 "nbformat_minor": 5
}
