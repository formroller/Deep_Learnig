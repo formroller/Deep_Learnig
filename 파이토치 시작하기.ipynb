{
 "cells": [
  {
   "cell_type": "markdown",
   "id": "ddca2ba8",
   "metadata": {},
   "source": [
    "# pytorch 설치하기"
   ]
  },
  {
   "cell_type": "code",
   "execution_count": null,
   "id": "62b2ceb1",
   "metadata": {},
   "outputs": [],
   "source": [
    "# (설치 방법) https://pytorch.org/get-started/locally/\n",
    "# pip3\n",
    "# !pip3 install torch torchvision"
   ]
  },
  {
   "cell_type": "code",
   "execution_count": null,
   "id": "5e9f71b2",
   "metadata": {},
   "outputs": [],
   "source": [
    "import torch\n",
    "x = torch.rand(5,3)\n",
    "print(x)"
   ]
  },
  {
   "cell_type": "markdown",
   "id": "dda20ff2",
   "metadata": {},
   "source": [
    "# 빠른 시작"
   ]
  },
  {
   "cell_type": "code",
   "execution_count": null,
   "id": "6f33a60d",
   "metadata": {},
   "outputs": [],
   "source": [
    "import torch\n",
    "from torch import nn\n",
    "from torch.utils.data import DataLoader\n",
    "from torchvision import datasets\n",
    "from torchvision.transforms import ToTensor, Lambda, Compose\n",
    "import matplotlib.pyplot as plt"
   ]
  },
  {
   "cell_type": "markdown",
   "id": "dabfb2bb",
   "metadata": {},
   "source": [
    "PyTorch는 **TorchText**, **TorchVision** 및 **TorchAudio**와 같이 특화된 라이브러리 데이터셋을 함께 제공한다.   \n",
    "<u>이 튜토리얼에서는 **TorchVision** 데이터 셋을 사용한다.</u>"
   ]
  },
  {
   "cell_type": "markdown",
   "id": "48f2de7f",
   "metadata": {},
   "source": [
    "```torchvision.dataset``` 모듈은 실제 비전 데이터에 대한 data을 포함하며, 이 튜토리얼에서는 FashionMNIST 데이터셋을 사용한다.  \n",
    "모든 **TorchVision** dataset은 샘플과 정답을 변경하기 위한 ```transform```과 ```target_transform``` 두 인자를 포함한다."
   ]
  },
  {
   "cell_type": "code",
   "execution_count": null,
   "id": "d10cd62a",
   "metadata": {},
   "outputs": [],
   "source": [
    "# 공개 데이터셋에서 학습 데이터 다운\n",
    "training_data = datasets.FashionMNIST(root = 'data', train = True, download = True, transform = ToTensor(),)\n",
    "\n",
    "# 공개 데이터셋에서 테스트 데이터 다운\n",
    "test_data = datasets.FashionMNIST(root = 'data', train = False, download = True, transform = ToTensor(),)"
   ]
  },
  {
   "cell_type": "markdown",
   "id": "c35c6c70",
   "metadata": {},
   "source": [
    "```Dataset```을 ```DataLoader```의 인자로 전달한다. 이는 데이터셋을 순회 가능한 객체(iterable)로 감싸고, 자동화된 배치(batch), 샘플링(sampling), 섞기(shuffle) 및 다중 프로세스로 데이터 불러오기 (multiprocess data loading)를 지원한다.  \n",
    "여기서 배치 크기(batch size)는 64로 정의한다. 즉, 데이터로더(dataloader) 객체의 각 요소는 64개의 특징(feature)과 정답(label)을 묶음(batch)으로 반환한다."
   ]
  },
  {
   "cell_type": "code",
   "execution_count": null,
   "id": "c8a100df",
   "metadata": {},
   "outputs": [],
   "source": [
    "batch_size = 64\n",
    "\n",
    "# 데이터로더 생성\n",
    "train_dataloader = DataLoader(training_data, batch_size = batch_size)\n",
    "test_dataloader = DataLoader(test_data, batch_size = batch_size)\n",
    "\n",
    "for X, y in test_dataloader:\n",
    "    print(f\"Shape of X[N, C, H, W] : {X.shape}\")\n",
    "    print(f\"Shape of y : {y.shape, y.dtype}\")\n",
    "    break"
   ]
  },
  {
   "cell_type": "markdown",
   "id": "ea9b6018",
   "metadata": {},
   "source": [
    "   > [DATASET과 DATALOADER(데이터 불러오기)](https://tutorials.pytorch.kr/beginner/basics/data_tutorial.html)"
   ]
  },
  {
   "cell_type": "markdown",
   "id": "0d1b136b",
   "metadata": {},
   "source": [
    "# 모델 만들기\n",
    "---\n",
    "PyTorch에서 신경망 모델은 ```nn.Module```을 상속받는 클래스(class)를 생성해 정의한다.  \n",
    "* ```__init__``` 함수에서 신경망 계층(layer) 정의.\n",
    "* ```forward``` 함수에서 신경망 데이터를 어떻게 전달할지 지정.\n",
    "\n",
    "가능한 경우 GPU로 신경망을 이동시켜 연산을 가속(accelearte)한다."
   ]
  },
  {
   "cell_type": "code",
   "execution_count": null,
   "id": "6ddaefb7",
   "metadata": {},
   "outputs": [],
   "source": [
    "# 학습에 사용할 CPU or GPU 장치 획득\n",
    "device = \"cuda\" if torch.cuda.is_available() else \"cpu\"\n",
    "print(f\"using {device} device\")\n",
    "\n",
    "# 모델 정의\n",
    "class NeuralNetwork(nn.Module):\n",
    "    def __init__(self):\n",
    "        super(NeuralNetwork, self).__init__()\n",
    "        self.flatten = nn.Flatten()\n",
    "        self.linear_relu_stack = nn.Sequential(\n",
    "            nn.Linear(28*28, 512),\n",
    "            nn.ReLU(),\n",
    "            nn.Linear(512, 512),\n",
    "            nn.ReLU(),\n",
    "            nn.Linear(512, 10)\n",
    "        )\n",
    "        \n",
    "    def forward(self, x):\n",
    "        x = self.flatten(x)\n",
    "        logits = self.linear_relu_stack(x)\n",
    "        return logits\n",
    "    \n",
    "model = NeuralNetwork().to(device)\n",
    "print(model)"
   ]
  },
  {
   "cell_type": "markdown",
   "id": "1745470e",
   "metadata": {},
   "source": [
    "> [PyTorch에서 신경망 정의하는 방법](https://tutorials.pytorch.kr/beginner/basics/buildmodel_tutorial.html)"
   ]
  },
  {
   "cell_type": "markdown",
   "id": "7e1e5dcd",
   "metadata": {},
   "source": [
    "# 모델 매개변수 최적화\n",
    "---\n",
    "모델을 학습하려면 손실 함수(loss function)와 옵티마이저(optimizer)가 필요하다."
   ]
  },
  {
   "cell_type": "code",
   "execution_count": null,
   "id": "1c85c478",
   "metadata": {},
   "outputs": [],
   "source": [
    "loss_fn = nn.CrossEntropyLoss()\n",
    "optimizer = torch.optim.SGD(model.parameters(), lr = 1e-3)"
   ]
  },
  {
   "cell_type": "markdown",
   "id": "99f46fe1",
   "metadata": {},
   "source": [
    "각 학습 단계(training loop)에서 모델은 학습 데이터셋에 대한 예측 수행 및 예측 오류를 역전파해 모델의 매개변수를 조정한다."
   ]
  },
  {
   "cell_type": "code",
   "execution_count": null,
   "id": "ac4ba065",
   "metadata": {},
   "outputs": [],
   "source": [
    "def train(dataloader, model, loss_fn, optimizer):\n",
    "    size = len(dataloader.dataset)\n",
    "    for batch, (X, y) in enumerate(dataloader):\n",
    "        X, y = X.to(device), y.to(device)\n",
    "        \n",
    "        # 예측 오류 계산\n",
    "        pred = model(X)\n",
    "        loss = loss_fn(pred, y)\n",
    "        \n",
    "        # 역전파\n",
    "        optimizer.zero_grad()\n",
    "        loss.backward()\n",
    "        optimizer.step()\n",
    "        \n",
    "        if batch % 100 == 0:\n",
    "            loss, current = loss.item(), batch * len(X)\n",
    "            print(f\"loss : {loss :>7f} [{current :>5d}/{size : >5d}]\")"
   ]
  },
  {
   "cell_type": "markdown",
   "id": "9d5517c3",
   "metadata": {},
   "source": [
    "모델이 학습하고 있는지 확인하기 위해 테스트 데이터셋으로 모델 성능 확인"
   ]
  },
  {
   "cell_type": "code",
   "execution_count": null,
   "id": "4277436f",
   "metadata": {},
   "outputs": [],
   "source": [
    "def test(dataloader, model, loss_fn):\n",
    "    size = len(dataloader.dataset)\n",
    "    num_batches = len(dataloader)\n",
    "    model.eval()\n",
    "    test_loss, correct = 0,0\n",
    "    with torch.no_grad():\n",
    "        for X, y in dataloader:\n",
    "            X, y = X.to(device), y.to(device)\n",
    "            pred = model(X)\n",
    "            test_loss += loss_fn(pred, y).item()\n",
    "            correct += (pred.argmax(1) == y).type(torch.float).sum().item()\n",
    "    test_loss /= num_batches\n",
    "    correct /= size\n",
    "    \n",
    "    print(f\"Test Error: \\n Accuracy: {(100*correct):>0.1f}%, Avg loss: {test_loss:>8f} \\n\")"
   ]
  },
  {
   "cell_type": "markdown",
   "id": "68ac8b81",
   "metadata": {},
   "source": [
    "학습은 여러번의 반복(epochs)을 거쳐 수행된다.  \n",
    "각 반복에서 모델은 더 나은 예측을 위해 매개변수를 학습하고 반복별 모델의 정확도(accuracy)와 손실(loss)을 출력한다. "
   ]
  },
  {
   "cell_type": "code",
   "execution_count": null,
   "id": "e07e5242",
   "metadata": {},
   "outputs": [],
   "source": [
    "epochs = 5\n",
    "\n",
    "for t in range(epochs):\n",
    "    print(f\"Epoch {t+1}\\n\",'-'*30)\n",
    "    train(train_dataloader, model, loss_fn, optimizer)\n",
    "    test(test_dataloader, model, loss_fn)\n",
    "print(\"Complete\")"
   ]
  },
  {
   "cell_type": "markdown",
   "id": "ef7905e9",
   "metadata": {},
   "source": [
    "> [모델 학습방법](https://tutorials.pytorch.kr/beginner/basics/optimization_tutorial.html)"
   ]
  },
  {
   "cell_type": "markdown",
   "id": "980997b9",
   "metadata": {},
   "source": [
    "# 모델 저장하기\n",
    "---\n",
    "모델을 저장하는 일반적인 방법은 (*모델의 매개변수 포함) 내부 상태 사전(iternal state dictionary)을 직렬화(serialize)화는 것이다."
   ]
  },
  {
   "cell_type": "code",
   "execution_count": null,
   "id": "cad1ef15",
   "metadata": {},
   "outputs": [],
   "source": [
    "torch.save(model.state_dict(), 'model.pth')\n",
    "print('Saved PyTorch Model State to model.pth')"
   ]
  },
  {
   "cell_type": "markdown",
   "id": "3059c0e5",
   "metadata": {},
   "source": [
    "# 모델 불러오기\n",
    "---\n",
    "모델을 불러오는 과정에는 모델 구조를 다시 만들고 상태 사전을 모델에 불러오는 과정이 포함된다."
   ]
  },
  {
   "cell_type": "code",
   "execution_count": null,
   "id": "29eee19e",
   "metadata": {},
   "outputs": [],
   "source": [
    "model = NeuralNetwork()\n",
    "model.load_state_dict(torch.load(\"model.pth\"))"
   ]
  },
  {
   "cell_type": "markdown",
   "id": "c6713f81",
   "metadata": {},
   "source": [
    "이제 위 모델을 사용해 예측할 수 있다."
   ]
  },
  {
   "cell_type": "code",
   "execution_count": null,
   "id": "1c7dfe58",
   "metadata": {},
   "outputs": [],
   "source": [
    "classes = [\n",
    "    'T-shirt/top',\n",
    "    'Trouser',\n",
    "    'Pullover',\n",
    "    'Dress',\n",
    "    'coat',\n",
    "    'Sandal',\n",
    "    'Shirt',\n",
    "    'Sneaker',\n",
    "    'Bag',\n",
    "    'Ankle boot',\n",
    "]\n",
    "\n",
    "model.eval()\n",
    "x, y = test_data[0][0], test_data[0][1]\n",
    "\n",
    "with torch.no_grad():\n",
    "    pred = model(x)\n",
    "    pred = model(x)\n",
    "    \n",
    "    predicted, actual = classes[pred[0].argmax(0)], classes[y]\n",
    "    print(f\"predicted : {predicted}, Actual : {actual}\")\n",
    "# with torch.no_grad():\n",
    "#     pred = model(x)\n",
    "#     predicted, actual = classes[pred[0].argmax(0)], classes[y]\n",
    "#     print(f\"Predicted : {predicted}, Actual : {actual} \")"
   ]
  },
  {
   "cell_type": "markdown",
   "id": "e192e092",
   "metadata": {},
   "source": [
    "> [모델 저장하고 불러오기](https://tutorials.pytorch.kr/beginner/basics/saveloadrun_tutorial.html)"
   ]
  }
 ],
 "metadata": {
  "kernelspec": {
   "display_name": "Python 3 (ipykernel)",
   "language": "python",
   "name": "python3"
  },
  "language_info": {
   "codemirror_mode": {
    "name": "ipython",
    "version": 3
   },
   "file_extension": ".py",
   "mimetype": "text/x-python",
   "name": "python",
   "nbconvert_exporter": "python",
   "pygments_lexer": "ipython3",
   "version": "3.9.7"
  },
  "toc": {
   "base_numbering": 1,
   "nav_menu": {},
   "number_sections": true,
   "sideBar": true,
   "skip_h1_title": false,
   "title_cell": "Table of Contents",
   "title_sidebar": "Contents",
   "toc_cell": false,
   "toc_position": {
    "height": "calc(100% - 180px)",
    "left": "10px",
    "top": "150px",
    "width": "165px"
   },
   "toc_section_display": true,
   "toc_window_display": true
  }
 },
 "nbformat": 4,
 "nbformat_minor": 5
}
